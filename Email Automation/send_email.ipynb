{
 "cells": [
  {
   "cell_type": "code",
   "execution_count": null,
   "metadata": {},
   "outputs": [],
   "source": [
    "import smtplib\n",
    "import getpass\n",
    "from email.mime.text import MIMEText"
   ]
  },
  {
   "cell_type": "code",
   "execution_count": null,
   "metadata": {},
   "outputs": [],
   "source": [
    "def send_email():\n",
    "    sender_address = 'yogesh160496@gmail.com'\n",
    "    password = getpass.getpass()\n",
    "    subject = 'Learn.Inspire.Grow'\n",
    "    msg = '''\n",
    "        This is my Second Email \n",
    "        Using Python Automation\n",
    "        \n",
    "        Yogesh Shrivastava\n",
    "    '''\n",
    "    # Server Initialisation\n",
    "    server = smtplib.SMTP('smtp.gmail.com',587)\n",
    "    server.starttls()\n",
    "    server.login(sender_address,password)\n",
    "\n",
    "    # Drafting Message body\n",
    "    recipents = ['yogesh160496@gmail.com']\n",
    "    msg = MIMEText(msg)\n",
    "    msg['Subject'] = subject\n",
    "    msg['From'] = sender_address\n",
    "    msg['To'] = ', '.join(recipents)\n",
    "    \n",
    "\n",
    "    server.sendmail(sender_address,recipents,msg.as_string())\n"
   ]
  },
  {
   "cell_type": "code",
   "execution_count": null,
   "metadata": {},
   "outputs": [],
   "source": [
    "send_email()"
   ]
  }
 ],
 "metadata": {
  "kernelspec": {
   "display_name": "Python 3",
   "language": "python",
   "name": "python3"
  },
  "language_info": {
   "codemirror_mode": {
    "name": "ipython",
    "version": 3
   },
   "file_extension": ".py",
   "mimetype": "text/x-python",
   "name": "python",
   "nbconvert_exporter": "python",
   "pygments_lexer": "ipython3",
   "version": "3.8.5"
  }
 },
 "nbformat": 4,
 "nbformat_minor": 4
}
